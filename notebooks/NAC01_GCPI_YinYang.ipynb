{
 "cells": [
  {
   "cell_type": "markdown",
   "source": [
    "## 1. Proposta\n",
    "Imagine  que você  tenha sido contratado(a) para propor e desenvolver tecnologiaspara uma fábrica de refrigerantes.  Ao  entrar  na  empresa,  o  diretor  te  apresenta  tudo  o  que  a  tecnologia  pode  prover  de melhoria e sua meta é desenvolver um Sistema de Visão Computacional que atenda a pelo menos 1 destas demandas:\n",
    "- Controle de entrada e saída de funcionários (existe uma base de dados com foto de todos)\n",
    "- Controle de entrada e saída de veículos (todos os veículos são cadastrados para liberação de acesso) \n",
    "- Contagem de caixas a serem carregadas em cada caminhão de distribuição\n",
    "- Contagem de cada tipo de refrigerante (são 4 tipos distintos por cor: laranja, limão, uva e morango)\n",
    "- Contagem de funcionários que faz hora extra (toda a empresa é controlada por cameras)"
   ],
   "metadata": {
    "id": "46-f5SKszCAP"
   }
  },
  {
   "cell_type": "markdown",
   "source": [
    "# 2. Desenvolvimento\n",
    "- Controle de entrada e saída de funcionários (existe uma base de dados com foto de todos)"
   ],
   "metadata": {
    "id": "Wdg78dX0z13B"
   }
  },
  {
   "cell_type": "markdown",
   "source": [
    "**Framework Development:**\r\n",
    "<center>\r\n",
    "    <img src=\"https://pyimagesearch.com/wp-content/uploads/2018/09/opencv_face_reco_facenet.jpg?_ga=2.219949471.764358374.1633133704-1359305255.1632187196\" width=35%>\r\n",
    "</center>\r\n",
    "\r\n",
    "**Tasks:**\r\n",
    "- [x] Detect;\r\n",
    "- [ ] Transform;\r\n",
    "- [ ] Capture;\r\n",
    "- [ ] CNN;\r\n",
    "- [ ] System logic.\r\n"
   ],
   "metadata": {}
  },
  {
   "cell_type": "code",
   "execution_count": 19,
   "source": [
    "import cv2 as cv\r\n",
    "import pandas as pd\r\n",
    "import numpy as np\r\n",
    "import matplotlib.pyplot as plt\r\n",
    "import matplotlib.image as mpimg\r\n",
    "from sklearn.datasets import fetch_olivetti_faces"
   ],
   "outputs": [],
   "metadata": {
    "id": "xO4OBhZszmiY"
   }
  },
  {
   "cell_type": "code",
   "execution_count": 10,
   "source": [
    "data  =   fetch_olivetti_faces()"
   ],
   "outputs": [
    {
     "output_type": "stream",
     "name": "stdout",
     "text": [
      "downloading Olivetti faces from https://ndownloader.figshare.com/files/5976027 to C:\\Users\\danmo\\scikit_learn_data\n"
     ]
    }
   ],
   "metadata": {
    "id": "SiNstpEZ_2G9"
   }
  }
 ],
 "metadata": {
  "colab": {
   "name": "NAC01-GCPI-YinYang.ipynb",
   "provenance": []
  },
  "kernelspec": {
   "display_name": "Python 3",
   "language": "python",
   "name": "python3"
  },
  "language_info": {
   "codemirror_mode": {
    "name": "ipython",
    "version": 3
   },
   "file_extension": ".py",
   "mimetype": "text/x-python",
   "name": "python",
   "nbconvert_exporter": "python",
   "pygments_lexer": "ipython3",
   "version": "3.8.8"
  }
 },
 "nbformat": 4,
 "nbformat_minor": 4
}